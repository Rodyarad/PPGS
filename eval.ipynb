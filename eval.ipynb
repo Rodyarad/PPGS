{
 "cells": [
  {
   "cell_type": "code",
   "execution_count": 1,
   "metadata": {},
   "outputs": [],
   "source": [
    "%load_ext autoreload\n",
    "%autoreload 2\n",
    "\n",
    "import sys\n",
    "sys.path.append('src')"
   ]
  },
  {
   "cell_type": "code",
   "execution_count": 2,
   "metadata": {},
   "outputs": [],
   "source": [
    "import json\n",
    "from src.utils import recursive_objectify, recursive_dictify\n",
    "\n",
    "params = recursive_objectify(json.load(open('default_params.json')))\n",
    "\n",
    "model_params = params['model_params']\n",
    "train_params = params['train_params']\n",
    "eval_params = params['eval_params']\n",
    "optimizer_params = params['optimizer_params']\n",
    "data_params = params['data_params']"
   ]
  },
  {
   "cell_type": "code",
   "execution_count": 3,
   "metadata": {},
   "outputs": [],
   "source": [
    "from src.model import get_model\n",
    "\n",
    "model_name = \"ice_slider\"\n",
    "checkpoint_path = f\"/home/admin/PPGS/results/{model_name}/{model_name}.tor\"\n",
    "\n",
    "model = get_model(model_params=model_params, train_params=train_params, eval_params=eval_params,\n",
    "                  optimizer_params=optimizer_params, data_params=data_params, device='cuda')\n",
    "\n",
    "model.load(checkpoint_path)"
   ]
  },
  {
   "cell_type": "code",
   "execution_count": 5,
   "metadata": {},
   "outputs": [],
   "source": [
    "from functools import partial\n",
    "from src.planners import MCBFSPlanner, FullPlanner, BaselinePlanner\n",
    "from src.planners.algos import mc_bfs, selective_mc_bfs, flat_mc_bfs\n",
    "\n",
    "mcbfs = partial(MCBFSPlanner, search_algo=mc_bfs)\n",
    "full = partial(FullPlanner, search_algo=selective_mc_bfs)\n",
    "base = partial(BaselinePlanner, search_algo=None)"
   ]
  },
  {
   "cell_type": "code",
   "execution_count": 5,
   "metadata": {},
   "outputs": [
    {
     "name": "stdout",
     "output_type": "stream",
     "text": [
      "Evaluating with planner: base\n",
      "Results for base:\n",
      "  plan_acc_1_2000: 0.5666666664777777\n",
      "  plan_acc_3_2000: 0.4333333331888889\n",
      "  plan_acc_4_2000: 0.4999999998333333\n",
      "  lvl_solved_ratio_2000: 0.23333333325555555\n",
      "  speedup_2000: 1.023832070705455\n",
      "\n"
     ]
    }
   ],
   "source": [
    "from src.evaluation import evaluate_with_planning\n",
    "\n",
    "planners = {\n",
    "    'base': base, \n",
    "    # 'mcbfs': mcbfs,\n",
    "    # 'full': full\n",
    "}\n",
    "\n",
    "eval_params = recursive_dictify(params.eval_params)\n",
    "eval_params['seeds'] = [2000]\n",
    "eval_params['num_levels'] = 30\n",
    "eval_params['margin'] = 0.05\n",
    "eval_params['eval_at'] = [1, 3, 4]\n",
    "# Evaluate with each planner\n",
    "results = {}\n",
    "for planner_name, planner in planners.items():\n",
    "    print(f\"Evaluating with planner: {planner_name}\")\n",
    "    metrics = evaluate_with_planning(\n",
    "        planner=planner,\n",
    "        model_dict=model.model_dict,\n",
    "        eval_params=recursive_objectify(eval_params),\n",
    "        data_params=data_params,\n",
    "        device='cuda'\n",
    "    )\n",
    "    results[planner_name] = metrics\n",
    "    \n",
    "    # Print metrics for this planner\n",
    "    print(f\"Results for {planner_name}:\")\n",
    "    for k, v in metrics.items():\n",
    "        print(f\"  {k}: {v}\")\n",
    "    print()"
   ]
  },
  {
   "cell_type": "code",
   "execution_count": 6,
   "metadata": {},
   "outputs": [
    {
     "name": "stdout",
     "output_type": "stream",
     "text": [
      "Evaluating with planner: mcbfs\n",
      "margin=0.01, pct_solved=0.5666666664777777\n",
      "margin=0.05, pct_solved=0.7999999997333334\n",
      "margin=0.1, pct_solved=0.7666666664111111\n",
      "margin=0.2, pct_solved=0.7333333330888888\n",
      "margin=0.5, pct_solved=0.4999999998333333\n",
      "margin=1, pct_solved=0.06666666664444444\n",
      "Evaluating with planner: full\n"
     ]
    },
    {
     "ename": "KeyboardInterrupt",
     "evalue": "",
     "output_type": "error",
     "traceback": [
      "\u001b[0;31m---------------------------------------------------------------------------\u001b[0m",
      "\u001b[0;31mKeyboardInterrupt\u001b[0m                         Traceback (most recent call last)",
      "Cell \u001b[0;32mIn[6], line 18\u001b[0m\n\u001b[1;32m     16\u001b[0m \u001b[38;5;28;01mfor\u001b[39;00m m \u001b[38;5;129;01min\u001b[39;00m [\u001b[38;5;241m0.01\u001b[39m, \u001b[38;5;241m0.05\u001b[39m, \u001b[38;5;241m0.1\u001b[39m, \u001b[38;5;241m0.2\u001b[39m, \u001b[38;5;241m0.5\u001b[39m, \u001b[38;5;241m1\u001b[39m]:\n\u001b[1;32m     17\u001b[0m     eval_params[\u001b[38;5;124m'\u001b[39m\u001b[38;5;124mplanner_params\u001b[39m\u001b[38;5;124m'\u001b[39m][\u001b[38;5;124m'\u001b[39m\u001b[38;5;124mmargin\u001b[39m\u001b[38;5;124m'\u001b[39m] \u001b[38;5;241m=\u001b[39m m\n\u001b[0;32m---> 18\u001b[0m     metrics \u001b[38;5;241m=\u001b[39m \u001b[43mevaluate_with_planning\u001b[49m\u001b[43m(\u001b[49m\n\u001b[1;32m     19\u001b[0m \u001b[43m        \u001b[49m\u001b[43mplanner\u001b[49m\u001b[38;5;241;43m=\u001b[39;49m\u001b[43mplanner\u001b[49m\u001b[43m,\u001b[49m\n\u001b[1;32m     20\u001b[0m \u001b[43m        \u001b[49m\u001b[43mmodel_dict\u001b[49m\u001b[38;5;241;43m=\u001b[39;49m\u001b[43mmodel\u001b[49m\u001b[38;5;241;43m.\u001b[39;49m\u001b[43mmodel_dict\u001b[49m\u001b[43m,\u001b[49m\n\u001b[1;32m     21\u001b[0m \u001b[43m        \u001b[49m\u001b[43meval_params\u001b[49m\u001b[38;5;241;43m=\u001b[39;49m\u001b[43mrecursive_objectify\u001b[49m\u001b[43m(\u001b[49m\u001b[43meval_params\u001b[49m\u001b[43m)\u001b[49m\u001b[43m,\u001b[49m\n\u001b[1;32m     22\u001b[0m \u001b[43m        \u001b[49m\u001b[43mdata_params\u001b[49m\u001b[38;5;241;43m=\u001b[39;49m\u001b[43mdata_params\u001b[49m\u001b[43m,\u001b[49m\n\u001b[1;32m     23\u001b[0m \u001b[43m        \u001b[49m\u001b[43mdevice\u001b[49m\u001b[38;5;241;43m=\u001b[39;49m\u001b[38;5;124;43m'\u001b[39;49m\u001b[38;5;124;43mcuda\u001b[39;49m\u001b[38;5;124;43m'\u001b[39;49m\n\u001b[1;32m     24\u001b[0m \u001b[43m    \u001b[49m\u001b[43m)\u001b[49m\n\u001b[1;32m     25\u001b[0m     results[planner_name] \u001b[38;5;241m=\u001b[39m metrics\n\u001b[1;32m     26\u001b[0m     \u001b[38;5;28mprint\u001b[39m(\u001b[38;5;124mf\u001b[39m\u001b[38;5;124m\"\u001b[39m\u001b[38;5;124mmargin=\u001b[39m\u001b[38;5;132;01m{\u001b[39;00mm\u001b[38;5;132;01m}\u001b[39;00m\u001b[38;5;124m, pct_solved=\u001b[39m\u001b[38;5;132;01m{\u001b[39;00mmetrics[\u001b[38;5;124m'\u001b[39m\u001b[38;5;124mlvl_solved_ratio_2000\u001b[39m\u001b[38;5;124m'\u001b[39m]\u001b[38;5;132;01m}\u001b[39;00m\u001b[38;5;124m\"\u001b[39m)\n",
      "File \u001b[0;32m/data/home/admin/PPGS/src/evaluation.py:38\u001b[0m, in \u001b[0;36mevaluate_with_planning\u001b[0;34m(model_dict, eval_params, data_params, device, planner)\u001b[0m\n\u001b[1;32m     36\u001b[0m         attempted[\u001b[38;5;28mstr\u001b[39m(j\u001b[38;5;241m+\u001b[39m\u001b[38;5;241m1\u001b[39m)] \u001b[38;5;241m+\u001b[39m\u001b[38;5;241m=\u001b[39m \u001b[38;5;241m1\u001b[39m\n\u001b[1;32m     37\u001b[0m         env \u001b[38;5;241m=\u001b[39m make_env(env_name, \u001b[38;5;28mint\u001b[39m(seed)\u001b[38;5;241m+\u001b[39mi, data_params\u001b[38;5;241m.\u001b[39menv_params)\n\u001b[0;32m---> 38\u001b[0m         success, n_step \u001b[38;5;241m=\u001b[39m \u001b[43mplanner\u001b[49m\u001b[38;5;241;43m.\u001b[39;49m\u001b[43mplan\u001b[49m\u001b[43m(\u001b[49m\u001b[43menv\u001b[49m\u001b[43m,\u001b[49m\u001b[43m \u001b[49m\u001b[43minitial_obs\u001b[49m\u001b[43m,\u001b[49m\u001b[43m \u001b[49m\u001b[43mfinal_obs\u001b[49m\u001b[43m,\u001b[49m\u001b[43m \u001b[49m\u001b[43mj\u001b[49m\u001b[38;5;241;43m+\u001b[39;49m\u001b[38;5;241;43m1\u001b[39;49m\u001b[43m)\u001b[49m\n\u001b[1;32m     39\u001b[0m         solved[\u001b[38;5;28mstr\u001b[39m(j\u001b[38;5;241m+\u001b[39m\u001b[38;5;241m1\u001b[39m)] \u001b[38;5;241m+\u001b[39m\u001b[38;5;241m=\u001b[39m success\n\u001b[1;32m     40\u001b[0m attempted[\u001b[38;5;124m'\u001b[39m\u001b[38;5;124mmax\u001b[39m\u001b[38;5;124m'\u001b[39m] \u001b[38;5;241m+\u001b[39m\u001b[38;5;241m=\u001b[39m \u001b[38;5;241m1\u001b[39m\n",
      "File \u001b[0;32m/data/home/admin/PPGS/src/planners/full_planner.py:88\u001b[0m, in \u001b[0;36mFullPlanner.plan\u001b[0;34m(self, environment, initial_obs, final_obs, max_depth)\u001b[0m\n\u001b[1;32m     86\u001b[0m \u001b[38;5;28;01mwhile\u001b[39;00m \u001b[38;5;28;01mTrue\u001b[39;00m:\n\u001b[1;32m     87\u001b[0m     \u001b[38;5;28;01massert\u001b[39;00m np\u001b[38;5;241m.\u001b[39many(new_emb\u001b[38;5;241m.\u001b[39mdetach()\u001b[38;5;241m.\u001b[39mcpu()\u001b[38;5;241m.\u001b[39munsqueeze(\u001b[38;5;241m0\u001b[39m)\u001b[38;5;241m.\u001b[39mnumpy() \u001b[38;5;241m@\u001b[39m visited\u001b[38;5;241m.\u001b[39mget_visited()\u001b[38;5;241m.\u001b[39mT \u001b[38;5;241m>\u001b[39m min_similarity)\n\u001b[0;32m---> 88\u001b[0m     best_action_seq \u001b[38;5;241m=\u001b[39m \u001b[43mselective_mc_bfs\u001b[49m\u001b[43m(\u001b[49m\u001b[43mstart\u001b[49m\u001b[38;5;241;43m=\u001b[39;49m\u001b[43mnew_emb\u001b[49m\u001b[43m,\u001b[49m\u001b[43m \u001b[49m\u001b[43mgoal\u001b[49m\u001b[38;5;241;43m=\u001b[39;49m\u001b[43mgoal_emb\u001b[49m\u001b[43m,\u001b[49m\u001b[43m \u001b[49m\u001b[43mforbidden\u001b[49m\u001b[38;5;241;43m=\u001b[39;49m\u001b[43mvisited\u001b[49m\u001b[38;5;241;43m.\u001b[39;49m\u001b[43mget_visited\u001b[49m\u001b[43m(\u001b[49m\u001b[43m)\u001b[49m\u001b[43m,\u001b[49m\n\u001b[1;32m     89\u001b[0m \u001b[43m         \u001b[49m\u001b[43manchor\u001b[49m\u001b[38;5;241;43m=\u001b[39;49m\u001b[43mnew_obs\u001b[49m\u001b[43m,\u001b[49m\u001b[43m \u001b[49m\u001b[43mforward_model\u001b[49m\u001b[38;5;241;43m=\u001b[39;49m\u001b[43mlookup\u001b[49m\u001b[43m,\u001b[49m\u001b[43m \u001b[49m\u001b[43maction_set\u001b[49m\u001b[38;5;241;43m=\u001b[39;49m\u001b[38;5;28;43mself\u001b[39;49m\u001b[38;5;241;43m.\u001b[39;49m\u001b[43maction_set\u001b[49m\u001b[43m,\u001b[49m\u001b[43m \u001b[49m\u001b[43mmax_depth\u001b[49m\u001b[38;5;241;43m=\u001b[39;49m\u001b[38;5;28;43mself\u001b[39;49m\u001b[38;5;241;43m.\u001b[39;49m\u001b[43mplanner_params\u001b[49m\u001b[38;5;241;43m.\u001b[39;49m\u001b[43mreplan_horizon\u001b[49m\u001b[43m,\u001b[49m\n\u001b[1;32m     90\u001b[0m \u001b[43m         \u001b[49m\u001b[43mmargin\u001b[49m\u001b[38;5;241;43m=\u001b[39;49m\u001b[38;5;28;43mself\u001b[39;49m\u001b[38;5;241;43m.\u001b[39;49m\u001b[43mplanner_params\u001b[49m\u001b[38;5;241;43m.\u001b[39;49m\u001b[43mmargin\u001b[49m\u001b[43m,\u001b[49m\u001b[43m \u001b[49m\u001b[43mearly_stop\u001b[49m\u001b[38;5;241;43m=\u001b[39;49m\u001b[38;5;28;43mself\u001b[39;49m\u001b[38;5;241;43m.\u001b[39;49m\u001b[43mplanner_params\u001b[49m\u001b[38;5;241;43m.\u001b[39;49m\u001b[43mearly_stop\u001b[49m\u001b[43m,\u001b[49m\n\u001b[1;32m     91\u001b[0m \u001b[43m         \u001b[49m\u001b[43mbatch_size\u001b[49m\u001b[38;5;241;43m=\u001b[39;49m\u001b[38;5;28;43mself\u001b[39;49m\u001b[38;5;241;43m.\u001b[39;49m\u001b[43mplanner_params\u001b[49m\u001b[38;5;241;43m.\u001b[39;49m\u001b[43mbatch_size\u001b[49m\u001b[43m,\u001b[49m\u001b[43m \u001b[49m\u001b[43msnap\u001b[49m\u001b[38;5;241;43m=\u001b[39;49m\u001b[38;5;28;43mself\u001b[39;49m\u001b[38;5;241;43m.\u001b[39;49m\u001b[43mplanner_params\u001b[49m\u001b[38;5;241;43m.\u001b[39;49m\u001b[43msnap\u001b[49m\u001b[43m,\u001b[49m\u001b[43m \u001b[49m\u001b[43mdevice\u001b[49m\u001b[38;5;241;43m=\u001b[39;49m\u001b[38;5;28;43mself\u001b[39;49m\u001b[38;5;241;43m.\u001b[39;49m\u001b[43mdevice\u001b[49m\u001b[43m)\u001b[49m  \u001b[38;5;66;03m# try to replan\u001b[39;00m\n\u001b[1;32m     92\u001b[0m     \u001b[38;5;28;01mif\u001b[39;00m \u001b[38;5;28mlen\u001b[39m(best_action_seq) \u001b[38;5;241m==\u001b[39m \u001b[38;5;241m0\u001b[39m:\n\u001b[1;32m     93\u001b[0m         \u001b[38;5;28;01mif\u001b[39;00m \u001b[38;5;28mself\u001b[39m\u001b[38;5;241m.\u001b[39mplanner_params\u001b[38;5;241m.\u001b[39mbacktrack:\n",
      "File \u001b[0;32m/data/home/admin/PPGS/src/planners/algos.py:161\u001b[0m, in \u001b[0;36mselective_mc_bfs\u001b[0;34m(start, goal, forbidden, anchor, forward_model, action_set, max_depth, margin, early_stop, batch_size, snap, device)\u001b[0m\n\u001b[1;32m    158\u001b[0m     indices \u001b[38;5;241m=\u001b[39m np\u001b[38;5;241m.\u001b[39mrandom\u001b[38;5;241m.\u001b[39mchoice(fringe\u001b[38;5;241m.\u001b[39mshape[\u001b[38;5;241m0\u001b[39m], batch_size)\n\u001b[1;32m    159\u001b[0m     fringe, fringe_actions \u001b[38;5;241m=\u001b[39m fringe[indices], [fringe_actions[i] \u001b[38;5;28;01mfor\u001b[39;00m i \u001b[38;5;129;01min\u001b[39;00m indices]\n\u001b[0;32m--> 161\u001b[0m children \u001b[38;5;241m=\u001b[39m np\u001b[38;5;241m.\u001b[39mconcatenate([\u001b[43mforward_model\u001b[49m\u001b[38;5;241;43m.\u001b[39;49m\u001b[43mforward\u001b[49m\u001b[43m(\u001b[49m\u001b[43mtorch\u001b[49m\u001b[38;5;241;43m.\u001b[39;49m\u001b[43mtensor\u001b[49m\u001b[43m(\u001b[49m\u001b[43mfringe\u001b[49m\u001b[43m,\u001b[49m\u001b[43m \u001b[49m\u001b[43mdevice\u001b[49m\u001b[38;5;241;43m=\u001b[39;49m\u001b[43mdevice\u001b[49m\u001b[43m)\u001b[49m\u001b[43m,\u001b[49m\n\u001b[1;32m    162\u001b[0m \u001b[43m                                                 \u001b[49m\u001b[43mtorch\u001b[49m\u001b[38;5;241;43m.\u001b[39;49m\u001b[43mcat\u001b[49m\u001b[43m(\u001b[49m\u001b[43m[\u001b[49m\u001b[43manchor\u001b[49m\u001b[43m]\u001b[49m\u001b[43m \u001b[49m\u001b[38;5;241;43m*\u001b[39;49m\u001b[43m \u001b[49m\u001b[43mfringe\u001b[49m\u001b[38;5;241;43m.\u001b[39;49m\u001b[43mshape\u001b[49m\u001b[43m[\u001b[49m\u001b[38;5;241;43m0\u001b[39;49m\u001b[43m]\u001b[49m\u001b[43m,\u001b[49m\u001b[43m \u001b[49m\u001b[43mdim\u001b[49m\u001b[38;5;241;43m=\u001b[39;49m\u001b[38;5;241;43m0\u001b[39;49m\u001b[43m)\u001b[49m\u001b[43m,\u001b[49m\n\u001b[1;32m    163\u001b[0m \u001b[43m                                                 \u001b[49m\u001b[43mtorch\u001b[49m\u001b[38;5;241;43m.\u001b[39;49m\u001b[43mzeros\u001b[49m\u001b[43m(\u001b[49m\u001b[43msize\u001b[49m\u001b[38;5;241;43m=\u001b[39;49m\u001b[43m(\u001b[49m\u001b[43mfringe\u001b[49m\u001b[38;5;241;43m.\u001b[39;49m\u001b[43mshape\u001b[49m\u001b[43m[\u001b[49m\u001b[38;5;241;43m0\u001b[39;49m\u001b[43m]\u001b[49m\u001b[43m,\u001b[49m\u001b[43m \u001b[49m\u001b[43m)\u001b[49m\u001b[43m,\u001b[49m\u001b[43mdtype\u001b[49m\u001b[38;5;241;43m=\u001b[39;49m\u001b[43mtorch\u001b[49m\u001b[38;5;241;43m.\u001b[39;49m\u001b[43mlong\u001b[49m\u001b[43m,\u001b[49m\u001b[43m \u001b[49m\u001b[43mdevice\u001b[49m\u001b[38;5;241;43m=\u001b[39;49m\u001b[43mdevice\u001b[49m\u001b[43m)\u001b[49m\n\u001b[1;32m    164\u001b[0m \u001b[43m                                                 \u001b[49m\u001b[38;5;241;43m.\u001b[39;49m\u001b[43mfill_\u001b[49m\u001b[43m(\u001b[49m\u001b[43ma\u001b[49m\u001b[43m)\u001b[49m\u001b[43m)\u001b[49m\u001b[38;5;241m.\u001b[39mcpu()\u001b[38;5;241m.\u001b[39mdetach()\u001b[38;5;241m.\u001b[39mnumpy() \u001b[38;5;28;01mfor\u001b[39;00m a \u001b[38;5;129;01min\u001b[39;00m action_set])\n\u001b[1;32m    165\u001b[0m children_actions \u001b[38;5;241m=\u001b[39m [[action_seq \u001b[38;5;241m+\u001b[39m [a] \u001b[38;5;28;01mfor\u001b[39;00m action_seq \u001b[38;5;129;01min\u001b[39;00m fringe_actions] \u001b[38;5;28;01mfor\u001b[39;00m a \u001b[38;5;129;01min\u001b[39;00m action_set]\n\u001b[1;32m    166\u001b[0m children_actions \u001b[38;5;241m=\u001b[39m \u001b[38;5;28mlist\u001b[39m(itertools\u001b[38;5;241m.\u001b[39mchain\u001b[38;5;241m.\u001b[39mfrom_iterable(children_actions))\n",
      "File \u001b[0;32m/data/home/admin/PPGS/src/planners/full_planner.py:131\u001b[0m, in \u001b[0;36mLookupForwardModel.forward\u001b[0;34m(self, z, s, a)\u001b[0m\n\u001b[1;32m    129\u001b[0m \u001b[38;5;28;01mif\u001b[39;00m \u001b[38;5;28mself\u001b[39m\u001b[38;5;241m.\u001b[39mkeys \u001b[38;5;129;01mis\u001b[39;00m \u001b[38;5;129;01mnot\u001b[39;00m \u001b[38;5;28;01mNone\u001b[39;00m:\n\u001b[1;32m    130\u001b[0m     \u001b[38;5;28;01mfor\u001b[39;00m i, row \u001b[38;5;129;01min\u001b[39;00m \u001b[38;5;28menumerate\u001b[39m(z \u001b[38;5;241m@\u001b[39m \u001b[38;5;28mself\u001b[39m\u001b[38;5;241m.\u001b[39mkeys\u001b[38;5;241m.\u001b[39mT):\n\u001b[0;32m--> 131\u001b[0m         \u001b[38;5;28;01mif\u001b[39;00m row\u001b[38;5;241m.\u001b[39mmax() \u001b[38;5;241m>\u001b[39m \u001b[38;5;28mself\u001b[39m\u001b[38;5;241m.\u001b[39mmin_similarity \u001b[38;5;129;01mand\u001b[39;00m \u001b[38;5;28mint\u001b[39m(a[i]) \u001b[38;5;129;01min\u001b[39;00m \u001b[38;5;28mself\u001b[39m\u001b[38;5;241m.\u001b[39mvalues[row\u001b[38;5;241m.\u001b[39margmax()]:\n\u001b[1;32m    132\u001b[0m             pred[i] \u001b[38;5;241m=\u001b[39m \u001b[38;5;28mself\u001b[39m\u001b[38;5;241m.\u001b[39mvalues[row\u001b[38;5;241m.\u001b[39margmax()][\u001b[38;5;28mint\u001b[39m(a[i])]\n\u001b[1;32m    133\u001b[0m \u001b[38;5;28;01mreturn\u001b[39;00m pred\n",
      "\u001b[0;31mKeyboardInterrupt\u001b[0m: "
     ]
    }
   ],
   "source": [
    "planners = {\n",
    "    # 'base': base, \n",
    "    'mcbfs': mcbfs,\n",
    "    'full': full\n",
    "}\n",
    "\n",
    "for planner_name, planner in planners.items():\n",
    "    print(f\"Evaluating with planner: {planner_name}\")\n",
    "\n",
    "    eval_params = recursive_dictify(params.eval_params)\n",
    "    eval_params['seeds'] = [2000]\n",
    "    eval_params['num_levels'] = 30\n",
    "    eval_params['eval_at'] = [1, 3, 4]\n",
    "    # Evaluate with each planner\n",
    "    results = {}\n",
    "    for m in [0.01, 0.05, 0.1, 0.2, 0.5, 1]:\n",
    "        eval_params['planner_params']['margin'] = m\n",
    "        metrics = evaluate_with_planning(\n",
    "            planner=planner,\n",
    "            model_dict=model.model_dict,\n",
    "            eval_params=recursive_objectify(eval_params),\n",
    "            data_params=data_params,\n",
    "            device='cuda'\n",
    "        )\n",
    "        results[planner_name] = metrics\n",
    "        print(f\"margin={m}, pct_solved={metrics['lvl_solved_ratio_2000']}\")"
   ]
  },
  {
   "cell_type": "code",
   "execution_count": 8,
   "metadata": {},
   "outputs": [
    {
     "name": "stdout",
     "output_type": "stream",
     "text": [
      "Evaluating with planner: full\n",
      "margin=0.05, pct_solved=0.9333333330222222\n",
      "margin=0.1, pct_solved=0.9666666663444444\n",
      "margin=0.2, pct_solved=0.9333333330222222\n",
      "margin=0.5, pct_solved=0.7666666664111111\n",
      "margin=1, pct_solved=0.3999999998666667\n"
     ]
    }
   ],
   "source": [
    "planners = {\n",
    "    # 'base': base, \n",
    "    # 'mcbfs': mcbfs,\n",
    "    'full': full\n",
    "}\n",
    "\n",
    "for planner_name, planner in planners.items():\n",
    "    print(f\"Evaluating with planner: {planner_name}\")\n",
    "\n",
    "    eval_params = recursive_dictify(params.eval_params)\n",
    "    eval_params['seeds'] = [2000]\n",
    "    eval_params['num_levels'] = 30\n",
    "    eval_params['eval_at'] = [1, 3, 4]\n",
    "    # Evaluate with each planner\n",
    "    results = {}\n",
    "    for m in [0.05, 0.1, 0.2, 0.5, 1]:\n",
    "        eval_params['planner_params']['margin'] = m\n",
    "        metrics = evaluate_with_planning(\n",
    "            planner=planner,\n",
    "            model_dict=model.model_dict,\n",
    "            eval_params=recursive_objectify(eval_params),\n",
    "            data_params=data_params,\n",
    "            device='cuda'\n",
    "        )\n",
    "        results[planner_name] = metrics\n",
    "        print(f\"margin={m}, pct_solved={metrics['lvl_solved_ratio_2000']}\")"
   ]
  },
  {
   "cell_type": "code",
   "execution_count": 9,
   "metadata": {},
   "outputs": [
    {
     "name": "stdout",
     "output_type": "stream",
     "text": [
      "Evaluating with planner: full\n",
      "margin=0.01, pct_solved=0.9333333330222222\n"
     ]
    }
   ],
   "source": [
    "planners = {\n",
    "    # 'base': base, \n",
    "    # 'mcbfs': mcbfs,\n",
    "    'full': full\n",
    "}\n",
    "\n",
    "for planner_name, planner in planners.items():\n",
    "    print(f\"Evaluating with planner: {planner_name}\")\n",
    "\n",
    "    eval_params = recursive_dictify(params.eval_params)\n",
    "    eval_params['seeds'] = [2000]\n",
    "    eval_params['num_levels'] = 30\n",
    "    eval_params['eval_at'] = [1, 3, 4]\n",
    "    # Evaluate with each planner\n",
    "    results = {}\n",
    "    for m in [0.01]:\n",
    "        eval_params['planner_params']['margin'] = m\n",
    "        metrics = evaluate_with_planning(\n",
    "            planner=planner,\n",
    "            model_dict=model.model_dict,\n",
    "            eval_params=recursive_objectify(eval_params),\n",
    "            data_params=data_params,\n",
    "            device='cuda'\n",
    "        )\n",
    "        results[planner_name] = metrics\n",
    "        print(f\"margin={m}, pct_solved={metrics['lvl_solved_ratio_2000']}\")"
   ]
  },
  {
   "cell_type": "code",
   "execution_count": null,
   "metadata": {},
   "outputs": [],
   "source": [
    "import matplotlib.pyplot as plt\n",
    "import seaborn as sns"
   ]
  },
  {
   "cell_type": "code",
   "execution_count": 3,
   "metadata": {},
   "outputs": [],
   "source": [
    "from src.model import get_model\n",
    "\n",
    "model_name = \"digit_jump\"\n",
    "checkpoint_path = f\"/home/admin/PPGS/results/{model_name}/{model_name}.tor\"\n",
    "\n",
    "model = get_model(model_params=model_params, train_params=train_params, eval_params=eval_params,\n",
    "                  optimizer_params=optimizer_params, data_params=data_params, device='cuda')\n",
    "\n",
    "model.load(checkpoint_path)"
   ]
  },
  {
   "cell_type": "code",
   "execution_count": 6,
   "metadata": {},
   "outputs": [
    {
     "name": "stdout",
     "output_type": "stream",
     "text": [
      "Evaluating with planner: base\n",
      "Results for base:\n",
      "  plan_acc_1_2000: 0.5999999998\n",
      "  plan_acc_3_2000: 0.4666666665111111\n",
      "  plan_acc_4_2000: 0.26666666657777777\n",
      "  lvl_solved_ratio_2000: 0.13333333328888888\n",
      "  speedup_2000: 1.0274878729956969\n",
      "\n"
     ]
    }
   ],
   "source": [
    "from src.evaluation import evaluate_with_planning\n",
    "\n",
    "planners = {\n",
    "    'base': base, \n",
    "    # 'mcbfs': mcbfs,\n",
    "    # 'full': full\n",
    "}\n",
    "\n",
    "data_params = recursive_dictify(data_params)\n",
    "data_params['env_name'] = model_name\n",
    "data_params = recursive_objectify(data_params)\n",
    "eval_params = recursive_dictify(params.eval_params)\n",
    "eval_params['seeds'] = [2000]\n",
    "eval_params['num_levels'] = 30\n",
    "eval_params['margin'] = 0.05\n",
    "eval_params['eval_at'] = [1, 3, 4]\n",
    "# Evaluate with each planner\n",
    "results = {}\n",
    "for planner_name, planner in planners.items():\n",
    "    print(f\"Evaluating with planner: {planner_name}\")\n",
    "    metrics = evaluate_with_planning(\n",
    "        planner=planner,\n",
    "        model_dict=model.model_dict,\n",
    "        eval_params=recursive_objectify(eval_params),\n",
    "        data_params=data_params,\n",
    "        device='cuda'\n",
    "    )\n",
    "    results[planner_name] = metrics\n",
    "    \n",
    "    # Print metrics for this planner\n",
    "    print(f\"Results for {planner_name}:\")\n",
    "    for k, v in metrics.items():\n",
    "        print(f\"  {k}: {v}\")\n",
    "    print()"
   ]
  },
  {
   "cell_type": "code",
   "execution_count": 8,
   "metadata": {},
   "outputs": [
    {
     "name": "stdout",
     "output_type": "stream",
     "text": [
      "Evaluating with planner: full\n",
      "margin=0.05, pct_solved=0.9666666663444444\n",
      "margin=0.1, pct_solved=0.9999999996666666\n",
      "margin=0.2, pct_solved=0.9999999996666666\n",
      "margin=0.5, pct_solved=0.8666666663777778\n",
      "margin=1, pct_solved=0.1666666666111111\n"
     ]
    }
   ],
   "source": [
    "planners = {\n",
    "    # 'base': base, \n",
    "    # 'mcbfs': mcbfs,\n",
    "    'full': full\n",
    "}\n",
    "\n",
    "for planner_name, planner in planners.items():\n",
    "    print(f\"Evaluating with planner: {planner_name}\")\n",
    "\n",
    "    eval_params = recursive_dictify(params.eval_params)\n",
    "    eval_params['seeds'] = [2000]\n",
    "    eval_params['num_levels'] = 30\n",
    "    eval_params['eval_at'] = [1, 3, 4]\n",
    "    # Evaluate with each planner\n",
    "    results = {}\n",
    "    for m in [0.05, 0.1, 0.2, 0.5, 1]:\n",
    "        eval_params['planner_params']['margin'] = m\n",
    "        metrics = evaluate_with_planning(\n",
    "            planner=planner,\n",
    "            model_dict=model.model_dict,\n",
    "            eval_params=recursive_objectify(eval_params),\n",
    "            data_params=data_params,\n",
    "            device='cuda'\n",
    "        )\n",
    "        results[planner_name] = metrics\n",
    "        print(f\"margin={m}, pct_solved={metrics['lvl_solved_ratio_2000']}\")"
   ]
  },
  {
   "cell_type": "code",
   "execution_count": null,
   "metadata": {},
   "outputs": [],
   "source": []
  }
 ],
 "metadata": {
  "kernelspec": {
   "display_name": "rmt",
   "language": "python",
   "name": "python3"
  },
  "language_info": {
   "codemirror_mode": {
    "name": "ipython",
    "version": 3
   },
   "file_extension": ".py",
   "mimetype": "text/x-python",
   "name": "python",
   "nbconvert_exporter": "python",
   "pygments_lexer": "ipython3",
   "version": "3.13.1"
  }
 },
 "nbformat": 4,
 "nbformat_minor": 2
}
